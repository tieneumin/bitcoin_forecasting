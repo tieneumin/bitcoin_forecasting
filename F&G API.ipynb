{
 "cells": [
  {
   "cell_type": "code",
   "execution_count": 1,
   "id": "0252d112-57f1-404c-b294-f615a1bd6f80",
   "metadata": {},
   "outputs": [],
   "source": [
    "import requests\n",
    "import pandas as pd"
   ]
  },
  {
   "cell_type": "code",
   "execution_count": 2,
   "id": "affca3f7-28a3-40dd-8a97-d924e1c6b103",
   "metadata": {},
   "outputs": [
    {
     "data": {
      "text/plain": [
       "200"
      ]
     },
     "execution_count": 2,
     "metadata": {},
     "output_type": "execute_result"
    }
   ],
   "source": [
    "# https://alternative.me/crypto/fear-and-greed-index/\n",
    "url = 'https://api.alternative.me/fng/'\n",
    "params = {\n",
    "    'limit': 0,  # all available data\n",
    "    'format': 'csv',\n",
    "    'date_format': 'cn' # YYYY-MM-DD\n",
    "}\n",
    "response = requests.get(url,params)\n",
    "response.status_code"
   ]
  },
  {
   "cell_type": "code",
   "execution_count": 3,
   "id": "79c91ca2-d069-46b8-ad73-91f5e93ac2a9",
   "metadata": {},
   "outputs": [
    {
     "data": {
      "text/plain": [
       "(['}',\n",
       "  '\\t}',\n",
       "  '\\t\\t\"error\": null',\n",
       "  '\\t\"metadata\": {',\n",
       "  '\\t],',\n",
       "  '2018-02-01,30,Fear',\n",
       "  '2018-02-02,15,Extreme Fear'],\n",
       " '',\n",
       " ['2024-09-01,26,Fear',\n",
       "  '2024-09-02,26,Fear',\n",
       "  '2024-09-03,26,Fear',\n",
       "  'fng_value,fng_classification,date',\n",
       "  '\\t\"data\": [',\n",
       "  '\\t\"name\": \"Fear and Greed Index\",',\n",
       "  '{'])"
      ]
     },
     "execution_count": 3,
     "metadata": {},
     "output_type": "execute_result"
    }
   ],
   "source": [
    "lines = response.text.splitlines()\n",
    "lines.reverse()\n",
    "lines[:7],'',lines[-7:]"
   ]
  },
  {
   "cell_type": "code",
   "execution_count": 15,
   "id": "598c3060-5532-4e89-8d33-93f91105e730",
   "metadata": {},
   "outputs": [
    {
     "name": "stdout",
     "output_type": "stream",
     "text": [
      "            date fng_value     fng_class\n",
      "0     2018-02-01        30          Fear\n",
      "1     2018-02-02        15  Extreme Fear\n",
      "2     2018-02-03        40          Fear\n",
      "3     2018-02-04        24  Extreme Fear\n",
      "4     2018-02-05        11  Extreme Fear\n",
      "...          ...       ...           ...\n",
      "2396  2024-08-27        48       Neutral\n",
      "2397  2024-08-28        30          Fear\n",
      "2398  2024-08-29        29          Fear\n",
      "2399  2024-08-30        34          Fear\n",
      "2400  2024-08-31        29          Fear\n",
      "\n",
      "[2401 rows x 3 columns]\n"
     ]
    }
   ],
   "source": [
    "date = []\n",
    "fng_value = []\n",
    "fng_class = []\n",
    "\n",
    "for x in lines[5:-7]: # tweak to change timeframe\n",
    "    line = x.split(',')\n",
    "    date.append(line[0])\n",
    "    fng_value.append(line[1])\n",
    "    fng_class.append(line[2])\n",
    "\n",
    "df = pd.DataFrame({\n",
    "    'date': date,\n",
    "    'fng_value': fng_value,\n",
    "    'fng_class': fng_class\n",
    "})\n",
    "\n",
    "print(df)"
   ]
  },
  {
   "cell_type": "code",
   "execution_count": 5,
   "id": "7f2e34bc-54f1-4855-bc44-17f8f501ea23",
   "metadata": {},
   "outputs": [],
   "source": [
    "# df.to_csv('fear_and_greed_index.csv',index=False)"
   ]
  }
 ],
 "metadata": {
  "kernelspec": {
   "display_name": "Python 3 (ipykernel)",
   "language": "python",
   "name": "python3"
  },
  "language_info": {
   "codemirror_mode": {
    "name": "ipython",
    "version": 3
   },
   "file_extension": ".py",
   "mimetype": "text/x-python",
   "name": "python",
   "nbconvert_exporter": "python",
   "pygments_lexer": "ipython3",
   "version": "3.12.4"
  }
 },
 "nbformat": 4,
 "nbformat_minor": 5
}
